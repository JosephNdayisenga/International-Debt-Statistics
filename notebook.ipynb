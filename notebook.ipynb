{
    "metadata": {
        "kernelspec": {
            "name": "python3",
            "display_name": "Python 3 (ipykernel)",
            "language": "python"
        },
        "language_info": {
            "name": "python",
            "version": "3.8.10",
            "mimetype": "text/x-python",
            "codemirror_mode": {
                "name": "ipython",
                "version": 3
            },
            "pygments_lexer": "ipython3",
            "nbconvert_exporter": "python",
            "file_extension": ".py"
        }
    },
    "nbformat_minor": 2,
    "nbformat": 4,
    "cells": [
        {
            "cell_type": "markdown",
            "source": [
                "## 1\\. The World Bank's international debt data\n",
                "\n",
                "The purpose of this notebook is to analyze a dataset of international debt data collectet by the World Bank. The data contains information about the debt owed by developing countries in various categories, measured in USD. I will be answering questions such as:\n",
                "\n",
                "\\- How much debt is owed in total by the countries in the dataset?\n",
                "\n",
                "\\- Which country has the highest amount of debt and what is that amount?\n",
                "\n",
                "\\- What is the average debt owed by countries different debt indicators"
            ],
            "metadata": {
                "dc": {
                    "key": "4"
                },
                "deletable": false,
                "editable": false,
                "run_control": {
                    "frozen": true
                },
                "tags": [
                    "context"
                ],
                "azdata_cell_guid": "7a1a23d4-d4ce-49dc-a28f-0d69d7d26817"
            },
            "attachments": {}
        },
        {
            "cell_type": "code",
            "source": [
                "# let's connect to the international_debt database\n",
                "\n",
                "%%sql\n",
                "postgresql:///international_debt\n",
                ""
            ],
            "metadata": {
                "dc": {
                    "key": "4"
                },
                "tags": [
                    "sample_code"
                ],
                "trusted": true,
                "azdata_cell_guid": "58100397-aa95-4d37-afdb-64c01a17f604",
                "language": "python"
            },
            "outputs": [
                {
                    "output_type": "execute_result",
                    "execution_count": 1,
                    "data": {
                        "text/plain": "'Connected: @international_debt'"
                    },
                    "metadata": {}
                }
            ],
            "execution_count": 1
        },
        {
            "cell_type": "code",
            "source": [
                "# check the column in the database\n",
                "\n",
                "%%sql\n",
                "\n",
                "SELECT *\n",
                "FROM international_debt\n",
                "LIMIT 10;"
            ],
            "metadata": {
                "dc": {
                    "key": "4"
                },
                "trusted": true,
                "azdata_cell_guid": "f9585dd9-8085-4527-a8a4-767b98d5ac2d",
                "language": "python"
            },
            "outputs": [
                {
                    "output_type": "stream",
                    "name": "stdout",
                    "text": " * postgresql:///international_debt\n10 rows affected.\n"
                },
                {
                    "output_type": "execute_result",
                    "execution_count": 3,
                    "data": {
                        "text/plain": "[('Afghanistan', 'AFG', 'Disbursements on external debt, long-term (DIS, current US$)', 'DT.DIS.DLXF.CD', Decimal('72894453.700000003')),\n ('Afghanistan', 'AFG', 'Interest payments on external debt, long-term (INT, current US$)', 'DT.INT.DLXF.CD', Decimal('53239440.100000001')),\n ('Afghanistan', 'AFG', 'PPG, bilateral (AMT, current US$)', 'DT.AMT.BLAT.CD', Decimal('61739336.899999999')),\n ('Afghanistan', 'AFG', 'PPG, bilateral (DIS, current US$)', 'DT.DIS.BLAT.CD', Decimal('49114729.399999999')),\n ('Afghanistan', 'AFG', 'PPG, bilateral (INT, current US$)', 'DT.INT.BLAT.CD', Decimal('39903620.100000001')),\n ('Afghanistan', 'AFG', 'PPG, multilateral (AMT, current US$)', 'DT.AMT.MLAT.CD', Decimal('39107845')),\n ('Afghanistan', 'AFG', 'PPG, multilateral (DIS, current US$)', 'DT.DIS.MLAT.CD', Decimal('23779724.300000001')),\n ('Afghanistan', 'AFG', 'PPG, multilateral (INT, current US$)', 'DT.INT.MLAT.CD', Decimal('13335820')),\n ('Afghanistan', 'AFG', 'PPG, official creditors (AMT, current US$)', 'DT.AMT.OFFT.CD', Decimal('100847181.900000006')),\n ('Afghanistan', 'AFG', 'PPG, official creditors (DIS, current US$)', 'DT.DIS.OFFT.CD', Decimal('72894453.700000003'))]",
                        "text/html": "<table>\n    <tr>\n        <th>country_name</th>\n        <th>country_code</th>\n        <th>indicator_name</th>\n        <th>indicator_code</th>\n        <th>debt</th>\n    </tr>\n    <tr>\n        <td>Afghanistan</td>\n        <td>AFG</td>\n        <td>Disbursements on external debt, long-term (DIS, current US$)</td>\n        <td>DT.DIS.DLXF.CD</td>\n        <td>72894453.700000003</td>\n    </tr>\n    <tr>\n        <td>Afghanistan</td>\n        <td>AFG</td>\n        <td>Interest payments on external debt, long-term (INT, current US$)</td>\n        <td>DT.INT.DLXF.CD</td>\n        <td>53239440.100000001</td>\n    </tr>\n    <tr>\n        <td>Afghanistan</td>\n        <td>AFG</td>\n        <td>PPG, bilateral (AMT, current US$)</td>\n        <td>DT.AMT.BLAT.CD</td>\n        <td>61739336.899999999</td>\n    </tr>\n    <tr>\n        <td>Afghanistan</td>\n        <td>AFG</td>\n        <td>PPG, bilateral (DIS, current US$)</td>\n        <td>DT.DIS.BLAT.CD</td>\n        <td>49114729.399999999</td>\n    </tr>\n    <tr>\n        <td>Afghanistan</td>\n        <td>AFG</td>\n        <td>PPG, bilateral (INT, current US$)</td>\n        <td>DT.INT.BLAT.CD</td>\n        <td>39903620.100000001</td>\n    </tr>\n    <tr>\n        <td>Afghanistan</td>\n        <td>AFG</td>\n        <td>PPG, multilateral (AMT, current US$)</td>\n        <td>DT.AMT.MLAT.CD</td>\n        <td>39107845</td>\n    </tr>\n    <tr>\n        <td>Afghanistan</td>\n        <td>AFG</td>\n        <td>PPG, multilateral (DIS, current US$)</td>\n        <td>DT.DIS.MLAT.CD</td>\n        <td>23779724.300000001</td>\n    </tr>\n    <tr>\n        <td>Afghanistan</td>\n        <td>AFG</td>\n        <td>PPG, multilateral (INT, current US$)</td>\n        <td>DT.INT.MLAT.CD</td>\n        <td>13335820</td>\n    </tr>\n    <tr>\n        <td>Afghanistan</td>\n        <td>AFG</td>\n        <td>PPG, official creditors (AMT, current US$)</td>\n        <td>DT.AMT.OFFT.CD</td>\n        <td>100847181.900000006</td>\n    </tr>\n    <tr>\n        <td>Afghanistan</td>\n        <td>AFG</td>\n        <td>PPG, official creditors (DIS, current US$)</td>\n        <td>DT.DIS.OFFT.CD</td>\n        <td>72894453.700000003</td>\n    </tr>\n</table>"
                    },
                    "metadata": {}
                }
            ],
            "execution_count": 3
        },
        {
            "cell_type": "markdown",
            "source": [
                "## 2\\. Finding the number of distinct countries\n",
                "\n",
                "I can see that the first 10 rows of the table show the amount of debt owed by Afghanistan in different debt indicators. However, I do not know the number of unique countries that are represented in the table. It is likely that some countries appear multiple times because  they have debt in more than one indicator.\n",
                "\n",
                "In order to accurately perform statistical analysis on the dat, it is important to determine the number of unique countries present in the table. Therefore, I will extract this information in this section."
            ],
            "metadata": {
                "dc": {
                    "key": "12"
                },
                "deletable": false,
                "editable": false,
                "run_control": {
                    "frozen": true
                },
                "tags": [
                    "context"
                ],
                "azdata_cell_guid": "312a1eb7-0c5b-4513-ab57-d9b1fa4a035d"
            },
            "attachments": {}
        },
        {
            "cell_type": "code",
            "source": [
                "%%sql\n",
                "SELECT \n",
                "    COUNT(DISTINCT country_name) AS total_distinct_countries\n",
                "FROM international_debt;"
            ],
            "metadata": {
                "dc": {
                    "key": "12"
                },
                "tags": [
                    "sample_code"
                ],
                "trusted": true,
                "azdata_cell_guid": "91090704-7089-423a-ba92-c435ad2c09e8",
                "language": "python"
            },
            "outputs": [
                {
                    "output_type": "stream",
                    "name": "stdout",
                    "text": " * postgresql:///international_debt\n1 rows affected.\n"
                },
                {
                    "output_type": "execute_result",
                    "execution_count": 4,
                    "data": {
                        "text/plain": "[(124,)]",
                        "text/html": "<table>\n    <tr>\n        <th>total_distinct_countries</th>\n    </tr>\n    <tr>\n        <td>124</td>\n    </tr>\n</table>"
                    },
                    "metadata": {}
                }
            ],
            "execution_count": 4
        },
        {
            "cell_type": "markdown",
            "source": [
                "## 3\\. Finding out the distinct debt indicators\n",
                "\n",
                "There are a total of 124 countries present on the table. The indicator\\_name column specifies the purpose oif the debt. The indicator\\_code symbolizes the category of these debts. Knowing about these various debt indicators will help to understand the areas in which a country can possibly be indebted to."
            ],
            "metadata": {
                "dc": {
                    "key": "20"
                },
                "deletable": false,
                "editable": false,
                "run_control": {
                    "frozen": true
                },
                "tags": [
                    "context"
                ],
                "azdata_cell_guid": "6ea58555-e1bc-47d4-840f-99a73109d1cd"
            },
            "attachments": {}
        },
        {
            "cell_type": "code",
            "source": [
                "%%sql\n",
                "SELECT \n",
                "    DISTINCT indicator_code AS distinct_debt_indicators\n",
                "FROM international_debt\n",
                "ORDER BY distinct_debt_indicators;"
            ],
            "metadata": {
                "dc": {
                    "key": "20"
                },
                "tags": [
                    "sample_code"
                ],
                "trusted": true,
                "azdata_cell_guid": "8fca7e09-be86-4816-b423-b1b667241efd",
                "language": "python"
            },
            "outputs": [
                {
                    "output_type": "stream",
                    "name": "stdout",
                    "text": " * postgresql:///international_debt\n25 rows affected.\n"
                },
                {
                    "output_type": "execute_result",
                    "execution_count": 5,
                    "data": {
                        "text/plain": "[('DT.AMT.BLAT.CD',),\n ('DT.AMT.DLXF.CD',),\n ('DT.AMT.DPNG.CD',),\n ('DT.AMT.MLAT.CD',),\n ('DT.AMT.OFFT.CD',),\n ('DT.AMT.PBND.CD',),\n ('DT.AMT.PCBK.CD',),\n ('DT.AMT.PROP.CD',),\n ('DT.AMT.PRVT.CD',),\n ('DT.DIS.BLAT.CD',),\n ('DT.DIS.DLXF.CD',),\n ('DT.DIS.MLAT.CD',),\n ('DT.DIS.OFFT.CD',),\n ('DT.DIS.PCBK.CD',),\n ('DT.DIS.PROP.CD',),\n ('DT.DIS.PRVT.CD',),\n ('DT.INT.BLAT.CD',),\n ('DT.INT.DLXF.CD',),\n ('DT.INT.DPNG.CD',),\n ('DT.INT.MLAT.CD',),\n ('DT.INT.OFFT.CD',),\n ('DT.INT.PBND.CD',),\n ('DT.INT.PCBK.CD',),\n ('DT.INT.PROP.CD',),\n ('DT.INT.PRVT.CD',)]",
                        "text/html": "<table>\n    <tr>\n        <th>distinct_debt_indicators</th>\n    </tr>\n    <tr>\n        <td>DT.AMT.BLAT.CD</td>\n    </tr>\n    <tr>\n        <td>DT.AMT.DLXF.CD</td>\n    </tr>\n    <tr>\n        <td>DT.AMT.DPNG.CD</td>\n    </tr>\n    <tr>\n        <td>DT.AMT.MLAT.CD</td>\n    </tr>\n    <tr>\n        <td>DT.AMT.OFFT.CD</td>\n    </tr>\n    <tr>\n        <td>DT.AMT.PBND.CD</td>\n    </tr>\n    <tr>\n        <td>DT.AMT.PCBK.CD</td>\n    </tr>\n    <tr>\n        <td>DT.AMT.PROP.CD</td>\n    </tr>\n    <tr>\n        <td>DT.AMT.PRVT.CD</td>\n    </tr>\n    <tr>\n        <td>DT.DIS.BLAT.CD</td>\n    </tr>\n    <tr>\n        <td>DT.DIS.DLXF.CD</td>\n    </tr>\n    <tr>\n        <td>DT.DIS.MLAT.CD</td>\n    </tr>\n    <tr>\n        <td>DT.DIS.OFFT.CD</td>\n    </tr>\n    <tr>\n        <td>DT.DIS.PCBK.CD</td>\n    </tr>\n    <tr>\n        <td>DT.DIS.PROP.CD</td>\n    </tr>\n    <tr>\n        <td>DT.DIS.PRVT.CD</td>\n    </tr>\n    <tr>\n        <td>DT.INT.BLAT.CD</td>\n    </tr>\n    <tr>\n        <td>DT.INT.DLXF.CD</td>\n    </tr>\n    <tr>\n        <td>DT.INT.DPNG.CD</td>\n    </tr>\n    <tr>\n        <td>DT.INT.MLAT.CD</td>\n    </tr>\n    <tr>\n        <td>DT.INT.OFFT.CD</td>\n    </tr>\n    <tr>\n        <td>DT.INT.PBND.CD</td>\n    </tr>\n    <tr>\n        <td>DT.INT.PCBK.CD</td>\n    </tr>\n    <tr>\n        <td>DT.INT.PROP.CD</td>\n    </tr>\n    <tr>\n        <td>DT.INT.PRVT.CD</td>\n    </tr>\n</table>"
                    },
                    "metadata": {}
                }
            ],
            "execution_count": 5
        },
        {
            "cell_type": "markdown",
            "source": [
                "## 4\\. Totaling the amount of debt owed by the countries\n",
                "\n",
                "As mentioned earlier, the financial debt of a particular country represents its economic state. But what if I were to project this on an overall global scale?\n",
                "\n",
                "Let's switch gears from the debt indicators now and find out the total amount of debt (in USD) that is owed by the different countries. This will give a sense of how the overall economy of the entire world is holding up."
            ],
            "metadata": {
                "dc": {
                    "key": "28"
                },
                "deletable": false,
                "editable": false,
                "run_control": {
                    "frozen": true
                },
                "tags": [
                    "context"
                ],
                "azdata_cell_guid": "1648e95d-0d25-4856-bbd4-5010bbd2d6bf"
            },
            "attachments": {}
        },
        {
            "cell_type": "code",
            "source": [
                "%%sql\n",
                "SELECT \n",
                "    ROUND(SUM(debt)/1000000, 2) AS total_debt\n",
                "FROM international_debt; "
            ],
            "metadata": {
                "dc": {
                    "key": "28"
                },
                "tags": [
                    "sample_code"
                ],
                "trusted": true,
                "azdata_cell_guid": "9334675a-e325-4a66-9997-80da77ab0695",
                "language": "python"
            },
            "outputs": [
                {
                    "output_type": "stream",
                    "name": "stdout",
                    "text": " * postgresql:///international_debt\n1 rows affected.\n"
                },
                {
                    "output_type": "execute_result",
                    "execution_count": 6,
                    "data": {
                        "text/plain": "[(Decimal('3079734.49'),)]",
                        "text/html": "<table>\n    <tr>\n        <th>total_debt</th>\n    </tr>\n    <tr>\n        <td>3079734.49</td>\n    </tr>\n</table>"
                    },
                    "metadata": {}
                }
            ],
            "execution_count": 6
        },
        {
            "cell_type": "markdown",
            "source": [
                "## 5\\. Country with the highest debt\n",
                "\n",
                "Now that I have the exact total of the amounts of debt owed by several countries, let's now find out the country that owns the highest amount of debt along with the amount. **Note** that this debt is the sum of different debts owed by a country across several categories. This will help to understand more about the country in terms of its socio-economic scenarios."
            ],
            "metadata": {
                "dc": {
                    "key": "36"
                },
                "deletable": false,
                "editable": false,
                "run_control": {
                    "frozen": true
                },
                "tags": [
                    "context"
                ],
                "azdata_cell_guid": "fd87634f-5ae3-4d3c-abca-c03273b14ac0"
            },
            "attachments": {}
        },
        {
            "cell_type": "code",
            "source": [
                "%%sql\n",
                "SELECT \n",
                "    country_name, \n",
                "    SUM(debt) AS total_debt\n",
                "FROM international_debt\n",
                "GROUP BY country_name\n",
                "ORDER BY total_debt DESC\n",
                "LIMIT 1;"
            ],
            "metadata": {
                "dc": {
                    "key": "36"
                },
                "tags": [
                    "sample_code"
                ],
                "trusted": true,
                "azdata_cell_guid": "a813db48-ded6-4885-82d3-6c2d91abdea0",
                "language": "python"
            },
            "outputs": [
                {
                    "output_type": "stream",
                    "name": "stdout",
                    "text": " * postgresql:///international_debt\n1 rows affected.\n"
                },
                {
                    "output_type": "execute_result",
                    "execution_count": 7,
                    "data": {
                        "text/plain": "[('China', Decimal('285793494734.200001568'))]",
                        "text/html": "<table>\n    <tr>\n        <th>country_name</th>\n        <th>total_debt</th>\n    </tr>\n    <tr>\n        <td>China</td>\n        <td>285793494734.200001568</td>\n    </tr>\n</table>"
                    },
                    "metadata": {}
                }
            ],
            "execution_count": 7
        },
        {
            "cell_type": "markdown",
            "source": [
                "## 6\\. Average amount of debt across indicators\n",
                "\n",
                "So, it was _China_.\n",
                "\n",
                "I now have a brief overview of the dataset and a few of its summary statistics. I already have an idea of the different debt indicators in which the countries owe their debts. I can dig even further to find out on an average how much debt a country owes? This will give me a better sense of the distribution of the amount of debt across different indicators."
            ],
            "metadata": {
                "dc": {
                    "key": "44"
                },
                "deletable": false,
                "editable": false,
                "run_control": {
                    "frozen": true
                },
                "tags": [
                    "context"
                ],
                "azdata_cell_guid": "7cbf1358-bcda-4a40-9c73-b47a217d74d3"
            },
            "attachments": {}
        },
        {
            "cell_type": "code",
            "source": [
                "%%sql\n",
                "SELECT \n",
                "    indicator_code AS debt_indicator,\n",
                "    indicator_name,\n",
                "    AVG(debt) AS average_debt\n",
                "FROM international_debt\n",
                "GROUP BY debt_indicator, indicator_name\n",
                "ORDER BY average_debt DESC\n",
                "LIMIT 10;"
            ],
            "metadata": {
                "dc": {
                    "key": "44"
                },
                "tags": [
                    "sample_code"
                ],
                "trusted": true,
                "azdata_cell_guid": "a8b32c2d-d963-451f-bf3d-95a117fecf1c",
                "language": "python"
            },
            "outputs": [
                {
                    "output_type": "stream",
                    "name": "stdout",
                    "text": " * postgresql:///international_debt\n10 rows affected.\n"
                },
                {
                    "output_type": "execute_result",
                    "execution_count": 8,
                    "data": {
                        "text/plain": "[('DT.AMT.DLXF.CD', 'Principal repayments on external debt, long-term (AMT, current US$)', Decimal('5904868401.499193612')),\n ('DT.AMT.DPNG.CD', 'Principal repayments on external debt, private nonguaranteed (PNG) (AMT, current US$)', Decimal('5161194333.812658349')),\n ('DT.DIS.DLXF.CD', 'Disbursements on external debt, long-term (DIS, current US$)', Decimal('2152041216.890243888')),\n ('DT.DIS.OFFT.CD', 'PPG, official creditors (DIS, current US$)', Decimal('1958983452.859836046')),\n ('DT.AMT.PRVT.CD', 'PPG, private creditors (AMT, current US$)', Decimal('1803694101.963265321')),\n ('DT.INT.DLXF.CD', 'Interest payments on external debt, long-term (INT, current US$)', Decimal('1644024067.650806481')),\n ('DT.DIS.BLAT.CD', 'PPG, bilateral (DIS, current US$)', Decimal('1223139290.398230108')),\n ('DT.INT.DPNG.CD', 'Interest payments on external debt, private nonguaranteed (PNG) (INT, current US$)', Decimal('1220410844.421518983')),\n ('DT.AMT.OFFT.CD', 'PPG, official creditors (AMT, current US$)', Decimal('1191187963.083064523')),\n ('DT.AMT.PBND.CD', 'PPG, bonds (AMT, current US$)', Decimal('1082623947.653623188'))]",
                        "text/html": "<table>\n    <tr>\n        <th>debt_indicator</th>\n        <th>indicator_name</th>\n        <th>average_debt</th>\n    </tr>\n    <tr>\n        <td>DT.AMT.DLXF.CD</td>\n        <td>Principal repayments on external debt, long-term (AMT, current US$)</td>\n        <td>5904868401.499193612</td>\n    </tr>\n    <tr>\n        <td>DT.AMT.DPNG.CD</td>\n        <td>Principal repayments on external debt, private nonguaranteed (PNG) (AMT, current US$)</td>\n        <td>5161194333.812658349</td>\n    </tr>\n    <tr>\n        <td>DT.DIS.DLXF.CD</td>\n        <td>Disbursements on external debt, long-term (DIS, current US$)</td>\n        <td>2152041216.890243888</td>\n    </tr>\n    <tr>\n        <td>DT.DIS.OFFT.CD</td>\n        <td>PPG, official creditors (DIS, current US$)</td>\n        <td>1958983452.859836046</td>\n    </tr>\n    <tr>\n        <td>DT.AMT.PRVT.CD</td>\n        <td>PPG, private creditors (AMT, current US$)</td>\n        <td>1803694101.963265321</td>\n    </tr>\n    <tr>\n        <td>DT.INT.DLXF.CD</td>\n        <td>Interest payments on external debt, long-term (INT, current US$)</td>\n        <td>1644024067.650806481</td>\n    </tr>\n    <tr>\n        <td>DT.DIS.BLAT.CD</td>\n        <td>PPG, bilateral (DIS, current US$)</td>\n        <td>1223139290.398230108</td>\n    </tr>\n    <tr>\n        <td>DT.INT.DPNG.CD</td>\n        <td>Interest payments on external debt, private nonguaranteed (PNG) (INT, current US$)</td>\n        <td>1220410844.421518983</td>\n    </tr>\n    <tr>\n        <td>DT.AMT.OFFT.CD</td>\n        <td>PPG, official creditors (AMT, current US$)</td>\n        <td>1191187963.083064523</td>\n    </tr>\n    <tr>\n        <td>DT.AMT.PBND.CD</td>\n        <td>PPG, bonds (AMT, current US$)</td>\n        <td>1082623947.653623188</td>\n    </tr>\n</table>"
                    },
                    "metadata": {}
                }
            ],
            "execution_count": 8
        },
        {
            "cell_type": "markdown",
            "source": [
                "## 7\\. The highest amount of principal repayments\n",
                "\n",
                "The indicator `DT.AMT.DLXF.CD` tops the chart of average debt. This category includes repayment of long term debts. Countries take on long-term debt to acquire immediate capital.\n",
                "\n",
                "An interesting observation in the above finding is that there is a huge difference in the amounts of the indicators after the second one. This indicates that the first two indicators might be the most severe categories in which the countries owe their debts.\n",
                "\n",
                "Let's investigate this a bit more so as to find out which country owes the highest amount of debt in the category of long term debts (`DT.AMT.DLXF.CD`). Since not all the countries suffer from the same kind of economic disturbances, this finding will allow me to understand that particular country's economic condition a bit more specifically."
            ],
            "metadata": {
                "dc": {
                    "key": "52"
                },
                "deletable": false,
                "editable": false,
                "run_control": {
                    "frozen": true
                },
                "tags": [
                    "context"
                ],
                "azdata_cell_guid": "6928e7f0-cb91-42c2-a054-cc9a7e53105e"
            },
            "attachments": {}
        },
        {
            "cell_type": "code",
            "source": [
                "%%sql\n",
                "SELECT \n",
                "    country_name, \n",
                "    indicator_name\n",
                "FROM international_debt\n",
                "WHERE debt = (SELECT \n",
                "                  MAX(debt)\n",
                "              FROM international_debt\n",
                "              WHERE indicator_code='DT.AMT.DLXF.CD');"
            ],
            "metadata": {
                "dc": {
                    "key": "52"
                },
                "tags": [
                    "sample_code"
                ],
                "trusted": true,
                "azdata_cell_guid": "ae420f49-20f0-49f7-a628-8c31890c3827",
                "language": "python"
            },
            "outputs": [
                {
                    "output_type": "stream",
                    "name": "stdout",
                    "text": " * postgresql:///international_debt\n1 rows affected.\n"
                },
                {
                    "output_type": "execute_result",
                    "execution_count": 9,
                    "data": {
                        "text/plain": "[('China', 'Principal repayments on external debt, long-term (AMT, current US$)')]",
                        "text/html": "<table>\n    <tr>\n        <th>country_name</th>\n        <th>indicator_name</th>\n    </tr>\n    <tr>\n        <td>China</td>\n        <td>Principal repayments on external debt, long-term (AMT, current US$)</td>\n    </tr>\n</table>"
                    },
                    "metadata": {}
                }
            ],
            "execution_count": 9
        },
        {
            "cell_type": "markdown",
            "source": [
                "## 8\\. The most common debt indicator\n",
                "\n",
                "China has the highest amount of debt in the long-term debt (`DT.AMT.DLXF.CD`) category. \n",
                "\n",
                "The long-term debt is the topmost category when it comes to the average amount of debt. But is it the most common indicator in which the countries owe their debt? Let's find that out."
            ],
            "metadata": {
                "dc": {
                    "key": "60"
                },
                "deletable": false,
                "editable": false,
                "run_control": {
                    "frozen": true
                },
                "tags": [
                    "context"
                ],
                "azdata_cell_guid": "ba016369-bfaa-41c8-9768-44854ff18e2b"
            },
            "attachments": {}
        },
        {
            "cell_type": "code",
            "source": [
                "%%sql\n",
                "SELECT \n",
                "    indicator_code,\n",
                "    COUNT(indicator_code) AS indicator_count\n",
                "FROM international_debt\n",
                "GROUP BY indicator_code\n",
                "ORDER BY indicator_count DESC, indicator_code DESC\n",
                "LIMIT 20;\n",
                ""
            ],
            "metadata": {
                "dc": {
                    "key": "60"
                },
                "tags": [
                    "sample_code"
                ],
                "trusted": true,
                "azdata_cell_guid": "afe6bd83-2e42-46f0-97c0-1caee569a7e6",
                "language": "python"
            },
            "outputs": [
                {
                    "output_type": "stream",
                    "name": "stdout",
                    "text": " * postgresql:///international_debt\n20 rows affected.\n"
                },
                {
                    "output_type": "execute_result",
                    "execution_count": 10,
                    "data": {
                        "text/plain": "[('DT.INT.OFFT.CD', 124),\n ('DT.INT.MLAT.CD', 124),\n ('DT.INT.DLXF.CD', 124),\n ('DT.AMT.OFFT.CD', 124),\n ('DT.AMT.MLAT.CD', 124),\n ('DT.AMT.DLXF.CD', 124),\n ('DT.DIS.DLXF.CD', 123),\n ('DT.INT.BLAT.CD', 122),\n ('DT.DIS.OFFT.CD', 122),\n ('DT.AMT.BLAT.CD', 122),\n ('DT.DIS.MLAT.CD', 120),\n ('DT.DIS.BLAT.CD', 113),\n ('DT.INT.PRVT.CD', 98),\n ('DT.AMT.PRVT.CD', 98),\n ('DT.INT.PCBK.CD', 84),\n ('DT.AMT.PCBK.CD', 84),\n ('DT.INT.DPNG.CD', 79),\n ('DT.AMT.DPNG.CD', 79),\n ('DT.INT.PBND.CD', 69),\n ('DT.AMT.PBND.CD', 69)]",
                        "text/html": "<table>\n    <tr>\n        <th>indicator_code</th>\n        <th>indicator_count</th>\n    </tr>\n    <tr>\n        <td>DT.INT.OFFT.CD</td>\n        <td>124</td>\n    </tr>\n    <tr>\n        <td>DT.INT.MLAT.CD</td>\n        <td>124</td>\n    </tr>\n    <tr>\n        <td>DT.INT.DLXF.CD</td>\n        <td>124</td>\n    </tr>\n    <tr>\n        <td>DT.AMT.OFFT.CD</td>\n        <td>124</td>\n    </tr>\n    <tr>\n        <td>DT.AMT.MLAT.CD</td>\n        <td>124</td>\n    </tr>\n    <tr>\n        <td>DT.AMT.DLXF.CD</td>\n        <td>124</td>\n    </tr>\n    <tr>\n        <td>DT.DIS.DLXF.CD</td>\n        <td>123</td>\n    </tr>\n    <tr>\n        <td>DT.INT.BLAT.CD</td>\n        <td>122</td>\n    </tr>\n    <tr>\n        <td>DT.DIS.OFFT.CD</td>\n        <td>122</td>\n    </tr>\n    <tr>\n        <td>DT.AMT.BLAT.CD</td>\n        <td>122</td>\n    </tr>\n    <tr>\n        <td>DT.DIS.MLAT.CD</td>\n        <td>120</td>\n    </tr>\n    <tr>\n        <td>DT.DIS.BLAT.CD</td>\n        <td>113</td>\n    </tr>\n    <tr>\n        <td>DT.INT.PRVT.CD</td>\n        <td>98</td>\n    </tr>\n    <tr>\n        <td>DT.AMT.PRVT.CD</td>\n        <td>98</td>\n    </tr>\n    <tr>\n        <td>DT.INT.PCBK.CD</td>\n        <td>84</td>\n    </tr>\n    <tr>\n        <td>DT.AMT.PCBK.CD</td>\n        <td>84</td>\n    </tr>\n    <tr>\n        <td>DT.INT.DPNG.CD</td>\n        <td>79</td>\n    </tr>\n    <tr>\n        <td>DT.AMT.DPNG.CD</td>\n        <td>79</td>\n    </tr>\n    <tr>\n        <td>DT.INT.PBND.CD</td>\n        <td>69</td>\n    </tr>\n    <tr>\n        <td>DT.AMT.PBND.CD</td>\n        <td>69</td>\n    </tr>\n</table>"
                    },
                    "metadata": {}
                }
            ],
            "execution_count": 10
        },
        {
            "cell_type": "markdown",
            "source": [
                "## 9\\. Other viable debt issues and conclusion\n",
                "\n",
                "There are a total of six debt indicators in which all the countries listed in our dataset have taken debt. The indicator `DT.AMT.DLXF.CD` is also there in the list. So, this gives a clue that all these countries are suffering from a common economic issue. But that is not the end of the story, but just a part of the story.\n",
                "\n",
                "Let's change tracks from `debt_indicator`s now and focus on the amount of debt again. Let's find out the maximum amount of debt that each country has. With this, we will be in a position to identify the other plausible economic issues a country might be going through.\n",
                "\n",
                "In this notebook, I took a look at debt owed by countries across the globe. I extracted a few summary statistics from the data and unraveled some interesting facts and figures. I also validated my findings to make sure the investigations are correct."
            ],
            "metadata": {
                "dc": {
                    "key": "68"
                },
                "deletable": false,
                "editable": false,
                "run_control": {
                    "frozen": true
                },
                "tags": [
                    "context"
                ],
                "azdata_cell_guid": "2d8d91c7-70fa-4a2d-b5c4-8ac20f0af1eb"
            },
            "attachments": {}
        },
        {
            "cell_type": "code",
            "source": [
                "%%sql\n",
                "SELECT \n",
                "    country_name, \n",
                "    MAX(debt) AS maximum_debt\n",
                "FROM international_debt\n",
                "GROUP BY country_name\n",
                "ORDER BY maximum_debt DESC\n",
                "LIMIT 10;"
            ],
            "metadata": {
                "dc": {
                    "key": "68"
                },
                "tags": [
                    "sample_code"
                ],
                "trusted": true,
                "azdata_cell_guid": "ea96fd55-80c6-4c4d-8838-7e126cb6f094",
                "language": "python"
            },
            "outputs": [
                {
                    "output_type": "stream",
                    "name": "stdout",
                    "text": " * postgresql:///international_debt\n10 rows affected.\n"
                },
                {
                    "output_type": "execute_result",
                    "execution_count": 11,
                    "data": {
                        "text/plain": "[('China', Decimal('96218620835.699996948')),\n ('Brazil', Decimal('90041840304.100006104')),\n ('Russian Federation', Decimal('66589761833.5')),\n ('Turkey', Decimal('51555031005.800003052')),\n ('South Asia', Decimal('48756295898.199996948')),\n ('Least developed countries: UN classification', Decimal('40160766261.599998474')),\n ('IDA only', Decimal('34531188113.199996948')),\n ('India', Decimal('31923507000.799999237')),\n ('Indonesia', Decimal('30916112653.799999237')),\n ('Kazakhstan', Decimal('27482093686.400001526'))]",
                        "text/html": "<table>\n    <tr>\n        <th>country_name</th>\n        <th>maximum_debt</th>\n    </tr>\n    <tr>\n        <td>China</td>\n        <td>96218620835.699996948</td>\n    </tr>\n    <tr>\n        <td>Brazil</td>\n        <td>90041840304.100006104</td>\n    </tr>\n    <tr>\n        <td>Russian Federation</td>\n        <td>66589761833.5</td>\n    </tr>\n    <tr>\n        <td>Turkey</td>\n        <td>51555031005.800003052</td>\n    </tr>\n    <tr>\n        <td>South Asia</td>\n        <td>48756295898.199996948</td>\n    </tr>\n    <tr>\n        <td>Least developed countries: UN classification</td>\n        <td>40160766261.599998474</td>\n    </tr>\n    <tr>\n        <td>IDA only</td>\n        <td>34531188113.199996948</td>\n    </tr>\n    <tr>\n        <td>India</td>\n        <td>31923507000.799999237</td>\n    </tr>\n    <tr>\n        <td>Indonesia</td>\n        <td>30916112653.799999237</td>\n    </tr>\n    <tr>\n        <td>Kazakhstan</td>\n        <td>27482093686.400001526</td>\n    </tr>\n</table>"
                    },
                    "metadata": {}
                }
            ],
            "execution_count": 11
        }
    ]
}